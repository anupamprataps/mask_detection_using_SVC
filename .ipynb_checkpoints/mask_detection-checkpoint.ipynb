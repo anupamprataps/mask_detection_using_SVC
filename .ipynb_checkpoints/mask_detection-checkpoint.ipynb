{
 "cells": [
  {
   "cell_type": "code",
   "execution_count": 7,
   "metadata": {},
   "outputs": [],
   "source": [
    "from skimage.feature import hog\n",
    "#from skimage.io import imread\n",
    "import joblib,glob,os,cv2\n",
    "import time\n",
    "from sklearn.svm import LinearSVC\n",
    "from sklearn.model_selection import GridSearchCV, train_test_split\n",
    "from sklearn import svm, metrics\n",
    "import numpy as np \n",
    "from sklearn.preprocessing import LabelEncoder\n",
    "import matplotlib.pyplot as plt\n",
    "\n",
    "train_data = []\n",
    "train_labels = []\n",
    "pos_im_path = 'DATAIMAGE/with_mask/'\n",
    "neg_im_path = 'DATAIMAGE/without_mask/'\n",
    "model_path = 'models/models.dat'\n",
    "# Load the positive features\n",
    "for filename in glob.glob(os.path.join(pos_im_path,\"*.jpg\")):\n",
    "    fd = cv2.imread(filename,0)\n",
    "    fd = cv2.resize(fd,(64,128))\n",
    "    fd = hog(fd,orientations=9,pixels_per_cell=(8,8),visualize=False,cells_per_block=(3,3)) \n",
    "    train_data.append(fd)\n",
    "    train_labels.append(1)"
   ]
  },
  {
   "cell_type": "code",
   "execution_count": 4,
   "metadata": {},
   "outputs": [],
   "source": [
    "\n",
    "# Load the negative features\n",
    "for filename in glob.glob(os.path.join(neg_im_path,\"*.jpg\")):\n",
    "    fd = cv2.imread(filename,0)\n",
    "    fd = cv2.resize(fd,(64,128))\n",
    "    fd = hog(fd,orientations=9,pixels_per_cell=(8,8),visualize=False,cells_per_block=(3,3))\n",
    "    train_data.append(fd)\n",
    "    train_labels.append(0)\n",
    "train_data = np.float32(train_data)\n",
    "train_labels = np.array(train_labels)"
   ]
  },
  {
   "cell_type": "code",
   "execution_count": 5,
   "metadata": {},
   "outputs": [
    {
     "name": "stdout",
     "output_type": "stream",
     "text": [
      "Training...... Support Vector Machine\n",
      "Model saved : models/models.dat\n"
     ]
    }
   ],
   "source": [
    "\n",
    "X_train,X_test,y_train,y_test=train_test_split(train_data,train_labels,test_size=0.2)\n",
    "model = LinearSVC()\n",
    "print('Training...... Support Vector Machine')\n",
    "model.fit(X_train,y_train)\n",
    "joblib.dump(model, 'models/models.dat')\n",
    "print('Model saved : {}'.format('models/models.dat'))"
   ]
  },
  {
   "cell_type": "code",
   "execution_count": 8,
   "metadata": {},
   "outputs": [
    {
     "name": "stdout",
     "output_type": "stream",
     "text": [
      "41 written!\n",
      "0\n",
      "102 written!\n",
      "0\n",
      "163 written!\n",
      "0\n",
      "226 written!\n",
      "1\n",
      "287 written!\n",
      "0\n",
      "Escape hit, closing...\n"
     ]
    }
   ],
   "source": [
    "model = joblib.load('models/models.dat')\n",
    "capture = cv2.VideoCapture(0)\n",
    "capture.set(3, 640)\n",
    "capture.set(4, 480)\n",
    "img_counter = 0\n",
    "frame_set = []\n",
    "start_time = time.time()\n",
    "\n",
    "cam = cv2.VideoCapture(0)\n",
    "\n",
    "cv2.namedWindow(\"test\")\n",
    "\n",
    "img_counter = 0\n",
    "font = cv2.FONT_HERSHEY_SIMPLEX \n",
    "x='starting detection'\n",
    "while True:\n",
    "    ret, frame = cam.read()\n",
    "    if not ret:\n",
    "        print(\"failed to grab frame\")\n",
    "        break \n",
    "    cv2.putText(frame,  x,  (50, 50),  font, 1,  (0, 255, 255),  2,  cv2.LINE_4)\n",
    "    cv2.imshow(\"test\", frame)\n",
    "\n",
    "    k = cv2.waitKey(1)\n",
    "    if k%256 == 27:\n",
    "        # ESC pressed\n",
    "        print(\"Escape hit, closing...\")\n",
    "        break\n",
    "    if time.time() - start_time >= 2: #<---- Check if 5 sec passed\n",
    "        img_name = \"test.png\".format(img_counter)\n",
    "        cv2.imwrite(img_name, frame)\n",
    "        print(\"{} written!\".format(img_counter))\n",
    "        start_time = time.time()\n",
    "        fd = cv2.imread('test.png',0)\n",
    "        fd = cv2.resize(fd,(64,128))\n",
    "        fd = hog(fd,orientations=9,pixels_per_cell=(8,8),visualize=False,cells_per_block=(3,3))\n",
    "        x1=model.predict(fd.reshape(1,-1))\n",
    "        print(x1[0])\n",
    "        if(x1[0]==0):\n",
    "            x='not wearing mask'\n",
    "        else:\n",
    "            x='wearing mask'\n",
    "    img_counter += 1\n",
    "cam.release()\n",
    "cv2.destroyAllWindows()"
   ]
  },
  {
   "cell_type": "code",
   "execution_count": null,
   "metadata": {},
   "outputs": [],
   "source": []
  }
 ],
 "metadata": {
  "kernelspec": {
   "display_name": "Python 3",
   "language": "python",
   "name": "python3"
  },
  "language_info": {
   "codemirror_mode": {
    "name": "ipython",
    "version": 3
   },
   "file_extension": ".py",
   "mimetype": "text/x-python",
   "name": "python",
   "nbconvert_exporter": "python",
   "pygments_lexer": "ipython3",
   "version": "3.6.7"
  }
 },
 "nbformat": 4,
 "nbformat_minor": 2
}
