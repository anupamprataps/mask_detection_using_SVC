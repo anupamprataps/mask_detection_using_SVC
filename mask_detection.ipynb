{
 "cells": [
  {
   "cell_type": "code",
   "execution_count": 1,
   "metadata": {},
   "outputs": [],
   "source": [
    "from skimage.feature import hog\n",
    "#from skimage.io import imread\n",
    "import joblib,glob,os,cv2\n",
    "\n",
    "from sklearn.svm import LinearSVC\n",
    "from sklearn.model_selection import GridSearchCV, train_test_split\n",
    "from sklearn import svm, metrics\n",
    "import numpy as np \n",
    "from sklearn.preprocessing import LabelEncoder\n",
    "import matplotlib.pyplot as plt\n",
    "\n",
    "train_data = []\n",
    "train_labels = []\n",
    "pos_im_path = 'DATAIMAGE/with_mask/'\n",
    "neg_im_path = 'DATAIMAGE/without_mask/'\n",
    "model_path = 'models/models.dat'\n",
    "# Load the positive features\n",
    "for filename in glob.glob(os.path.join(pos_im_path,\"*.jpg\")):\n",
    "    fd = cv2.imread(filename,0)\n",
    "    fd = cv2.resize(fd,(64,128))\n",
    "    fd = hog(fd,orientations=9,pixels_per_cell=(8,8),visualize=False,cells_per_block=(3,3)) \n",
    "    train_data.append(fd)\n",
    "    train_labels.append(1)"
   ]
  },
  {
   "cell_type": "code",
   "execution_count": 2,
   "metadata": {},
   "outputs": [],
   "source": [
    "\n",
    "# Load the negative features\n",
    "for filename in glob.glob(os.path.join(neg_im_path,\"*.jpg\")):\n",
    "    fd = cv2.imread(filename,0)\n",
    "    fd = cv2.resize(fd,(64,128))\n",
    "    fd = hog(fd,orientations=9,pixels_per_cell=(8,8),visualize=False,cells_per_block=(3,3))\n",
    "    train_data.append(fd)\n",
    "    train_labels.append(0)\n",
    "train_data = np.float32(train_data)\n",
    "train_labels = np.array(train_labels)"
   ]
  },
  {
   "cell_type": "code",
   "execution_count": 3,
   "metadata": {},
   "outputs": [
    {
     "name": "stdout",
     "output_type": "stream",
     "text": [
      "Training...... Support Vector Machine\n",
      "Model saved : models/models.dat\n"
     ]
    }
   ],
   "source": [
    "\n",
    "X_train,X_test,y_train,y_test=train_test_split(train_data,train_labels,test_size=0.2)\n",
    "model = LinearSVC()\n",
    "print('Training...... Support Vector Machine')\n",
    "model.fit(X_train,y_train)\n",
    "joblib.dump(model, 'models/models.dat')\n",
    "print('Model saved : {}'.format('models/models.dat'))"
   ]
  },
  {
   "cell_type": "code",
   "execution_count": 4,
   "metadata": {},
   "outputs": [],
   "source": [
    "model = joblib.load('models/models.dat')\n",
    "y_predict=model.predict(X_test)"
   ]
  },
  {
   "cell_type": "code",
   "execution_count": 5,
   "metadata": {},
   "outputs": [
    {
     "data": {
      "text/plain": [
       "0.8985507246376812"
      ]
     },
     "execution_count": 5,
     "metadata": {},
     "output_type": "execute_result"
    }
   ],
   "source": [
    "model.score(X_test,y_test)"
   ]
  },
  {
   "cell_type": "code",
   "execution_count": null,
   "metadata": {},
   "outputs": [],
   "source": []
  }
 ],
 "metadata": {
  "kernelspec": {
   "display_name": "Python 3",
   "language": "python",
   "name": "python3"
  },
  "language_info": {
   "codemirror_mode": {
    "name": "ipython",
    "version": 3
   },
   "file_extension": ".py",
   "mimetype": "text/x-python",
   "name": "python",
   "nbconvert_exporter": "python",
   "pygments_lexer": "ipython3",
   "version": "3.6.7"
  }
 },
 "nbformat": 4,
 "nbformat_minor": 2
}
